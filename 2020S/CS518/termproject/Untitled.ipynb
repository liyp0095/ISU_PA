{
 "cells": [
  {
   "cell_type": "code",
   "execution_count": 4,
   "metadata": {},
   "outputs": [],
   "source": [
    "import numpy\n",
    "from PIL import Image\n",
    "\n",
    "def voronoi(points,shape=(500,500)):\n",
    "    depthmap = numpy.ones(shape,numpy.float)*1e308\n",
    "    colormap = numpy.zeros(shape,numpy.int)\n",
    "\n",
    "    def hypot(X,Y):\n",
    "        return (X-x)**2 + (Y-y)**2\n",
    "\n",
    "    for i,(x,y) in enumerate(points):\n",
    "        paraboloid = numpy.fromfunction(hypot,shape)\n",
    "        colormap = numpy.where(paraboloid < depthmap,i+1,colormap)\n",
    "        depthmap = numpy.where(paraboloid <\n",
    "depthmap,paraboloid,depthmap)\n",
    "\n",
    "    for (x,y) in points:\n",
    "        colormap[x-1:x+2,y-1:y+2] = 0\n",
    "\n",
    "    return colormap\n",
    "\n",
    "def draw_map(colormap):\n",
    "    shape = colormap.shape\n",
    "\n",
    "    palette = numpy.array([\n",
    "            0x000000FF,\n",
    "            0xFF0000FF,\n",
    "            0x00FF00FF,\n",
    "            0xFFFF00FF,\n",
    "            0x0000FFFF,\n",
    "            0xFF00FFFF,\n",
    "            0x00FFFFFF,\n",
    "            0xFFFFFFFF,\n",
    "            ])\n",
    "\n",
    "    colormap = numpy.transpose(colormap)\n",
    "    pixels = numpy.empty(colormap.shape+(4,),numpy.int8)\n",
    "\n",
    "    pixels[:,:,3] = palette[colormap] & 0xFF\n",
    "    pixels[:,:,2] = (palette[colormap]>>8) & 0xFF\n",
    "    pixels[:,:,1] = (palette[colormap]>>16) & 0xFF\n",
    "    pixels[:,:,0] = (palette[colormap]>>24) & 0xFF\n",
    "\n",
    "    image = Image.frombytes(\"RGBA\",shape,pixels)\n",
    "    image.save('voronoi.png')\n",
    "\n",
    "if __name__ == '__main__':\n",
    "    draw_map(voronoi(([100,100],[356,301],[400,65],[324,145],\n",
    "[200,399])))"
   ]
  },
  {
   "cell_type": "code",
   "execution_count": null,
   "metadata": {},
   "outputs": [],
   "source": []
  }
 ],
 "metadata": {
  "kernelspec": {
   "display_name": "Python 3",
   "language": "python",
   "name": "python3"
  },
  "language_info": {
   "codemirror_mode": {
    "name": "ipython",
    "version": 3
   },
   "file_extension": ".py",
   "mimetype": "text/x-python",
   "name": "python",
   "nbconvert_exporter": "python",
   "pygments_lexer": "ipython3",
   "version": "3.7.4"
  }
 },
 "nbformat": 4,
 "nbformat_minor": 4
}
